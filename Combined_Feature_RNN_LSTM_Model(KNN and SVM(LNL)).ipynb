{
 "cells": [
  {
   "cell_type": "markdown",
   "id": "b7766cb7",
   "metadata": {},
   "source": [
    "# Combined Feature extracted from RNN and LSTM(64 colonms/feature for each image)\n"
   ]
  },
  {
   "cell_type": "code",
   "execution_count": 42,
   "id": "fb21215e",
   "metadata": {},
   "outputs": [],
   "source": [
    "import numpy as np\n",
    "import pandas as pd\n",
    "from keras.datasets import mnist\n",
    "from sklearn.model_selection import train_test_split\n",
    "from keras.models import Sequential\n",
    "from keras.layers import SimpleRNN, Dense\n",
    "from keras.utils import to_categorical"
   ]
  },
  {
   "cell_type": "code",
   "execution_count": 43,
   "id": "2208b922",
   "metadata": {},
   "outputs": [],
   "source": [
    "# Load and preprocess the MNIST dataset\n",
    "(X_train, y_train), (X_test, y_test) = mnist.load_data()\n",
    "input_dim = X_train.shape[1] * X_train.shape[2]\n",
    "X_train = X_train.reshape((-1, 1, input_dim))\n",
    "X_test = X_test.reshape((-1, 1, input_dim))\n",
    "X_train = X_train.astype('float32') / 255.0\n",
    "X_test = X_test.astype('float32') / 255.0\n"
   ]
  },
  {
   "cell_type": "code",
   "execution_count": 44,
   "id": "bcd65031",
   "metadata": {},
   "outputs": [],
   "source": [
    "# One-hot encode the target labels\n",
    "num_classes = 10\n",
    "y_train_one_hot = to_categorical(y_train, num_classes=num_classes)\n",
    "y_test_one_hot = to_categorical(y_test, num_classes=num_classes)"
   ]
  },
  {
   "cell_type": "code",
   "execution_count": 4,
   "id": "6f97c190",
   "metadata": {},
   "outputs": [],
   "source": [
    "# Build and train the RNN model\n",
    "model = Sequential()\n",
    "model.add(SimpleRNN(64, input_shape=(1, input_dim), activation=\"relu\"))\n",
    "model.add(Dense(10, activation=\"softmax\"))\n",
    "model.compile(optimizer=\"adam\", loss=\"categorical_crossentropy\", metrics=[\"accuracy\"])\n"
   ]
  },
  {
   "cell_type": "code",
   "execution_count": 5,
   "id": "64544e71",
   "metadata": {
    "scrolled": true
   },
   "outputs": [
    {
     "name": "stdout",
     "output_type": "stream",
     "text": [
      "Epoch 1/10\n",
      "1875/1875 - 11s - loss: 0.2992 - accuracy: 0.9147 - 11s/epoch - 6ms/step\n",
      "Epoch 2/10\n",
      "1875/1875 - 9s - loss: 0.1456 - accuracy: 0.9577 - 9s/epoch - 5ms/step\n",
      "Epoch 3/10\n",
      "1875/1875 - 8s - loss: 0.1056 - accuracy: 0.9688 - 8s/epoch - 4ms/step\n",
      "Epoch 4/10\n",
      "1875/1875 - 10s - loss: 0.0834 - accuracy: 0.9752 - 10s/epoch - 5ms/step\n",
      "Epoch 5/10\n",
      "1875/1875 - 10s - loss: 0.0676 - accuracy: 0.9800 - 10s/epoch - 6ms/step\n",
      "Epoch 6/10\n",
      "1875/1875 - 9s - loss: 0.0575 - accuracy: 0.9827 - 9s/epoch - 5ms/step\n",
      "Epoch 7/10\n",
      "1875/1875 - 10s - loss: 0.0485 - accuracy: 0.9854 - 10s/epoch - 5ms/step\n",
      "Epoch 8/10\n",
      "1875/1875 - 10s - loss: 0.0407 - accuracy: 0.9877 - 10s/epoch - 5ms/step\n",
      "Epoch 9/10\n",
      "1875/1875 - 10s - loss: 0.0358 - accuracy: 0.9891 - 10s/epoch - 5ms/step\n",
      "Epoch 10/10\n",
      "1875/1875 - 10s - loss: 0.0298 - accuracy: 0.9910 - 10s/epoch - 5ms/step\n"
     ]
    },
    {
     "data": {
      "text/plain": [
       "<keras.callbacks.History at 0x276506d2b30>"
      ]
     },
     "execution_count": 5,
     "metadata": {},
     "output_type": "execute_result"
    }
   ],
   "source": [
    "model.fit(X_train, y_train_one_hot, epochs=10, batch_size=32, verbose=2)"
   ]
  },
  {
   "cell_type": "code",
   "execution_count": 6,
   "id": "dd6f27d0",
   "metadata": {},
   "outputs": [
    {
     "name": "stdout",
     "output_type": "stream",
     "text": [
      "1875/1875 [==============================] - 4s 2ms/step\n",
      "313/313 [==============================] - 1s 2ms/step\n"
     ]
    }
   ],
   "source": [
    "# Extract features from the trained RNN model\n",
    "feature_extractor = Sequential(model.layers[:-1])  # Remove the last Dense layer\n",
    "train_features = feature_extractor.predict(X_train)\n",
    "test_features = feature_extractor.predict(X_test)"
   ]
  },
  {
   "cell_type": "code",
   "execution_count": 7,
   "id": "cf67bdc6",
   "metadata": {},
   "outputs": [],
   "source": [
    "# Reshape features for saving to Excel\n",
    "train_features = train_features.reshape((train_features.shape[0], -1))\n",
    "test_features = test_features.reshape((test_features.shape[0], -1))"
   ]
  },
  {
   "cell_type": "code",
   "execution_count": 8,
   "id": "8d386a92",
   "metadata": {},
   "outputs": [],
   "source": [
    "# Combine features with labels\n",
    "train_df = pd.DataFrame(np.column_stack((train_features, y_train)), columns=[f'feature_{i}' for i in range(train_features.shape[1])] + ['label'])\n",
    "test_df = pd.DataFrame(np.column_stack((test_features, y_test)), columns=[f'feature_{i}' for i in range(test_features.shape[1])] + ['label'])\n"
   ]
  },
  {
   "cell_type": "code",
   "execution_count": 9,
   "id": "d9b28564",
   "metadata": {},
   "outputs": [],
   "source": [
    "# Save features and labels to Excel files\n",
    "train_df.to_excel('rnn_train_features_labels.xlsx', index=False)\n",
    "test_df.to_excel('rnn_test_features_labels.xlsx', index=False)"
   ]
  },
  {
   "cell_type": "markdown",
   "id": "72a63bbc",
   "metadata": {},
   "source": [
    "# 64 Features from MNIST using LSTM"
   ]
  },
  {
   "cell_type": "code",
   "execution_count": 10,
   "id": "bed27e5c",
   "metadata": {},
   "outputs": [],
   "source": [
    "from keras.layers import LSTM, Dense\n",
    "# Load the MNIST dataset\n",
    "(X_train, y_train), (X_test, y_test) = mnist.load_data()\n",
    "\n",
    "# Preprocess the data\n",
    "input_dim = X_train.shape[1] * X_train.shape[2]\n",
    "X_train = X_train.reshape((-1, 1, input_dim))\n",
    "X_test = X_test.reshape((-1, 1, input_dim))\n",
    "X_train = X_train.astype('float32') / 255.0\n",
    "X_test = X_test.astype('float32') / 255.0"
   ]
  },
  {
   "cell_type": "code",
   "execution_count": 11,
   "id": "0c963ad5",
   "metadata": {},
   "outputs": [
    {
     "name": "stdout",
     "output_type": "stream",
     "text": [
      "WARNING:tensorflow:Layer lstm will not use cuDNN kernels since it doesn't meet the criteria. It will use a generic GPU kernel as fallback when running on GPU.\n"
     ]
    }
   ],
   "source": [
    "num_classes = 10\n",
    "memory_cell = 64\n",
    "\n",
    "# Build and train the LSTM model\n",
    "model = Sequential()\n",
    "model.add(LSTM(memory_cell, input_shape=(1, input_dim), activation=\"relu\"))\n",
    "model.add(Dense(num_classes, activation=\"softmax\"))"
   ]
  },
  {
   "cell_type": "code",
   "execution_count": 12,
   "id": "724a9b5e",
   "metadata": {},
   "outputs": [
    {
     "name": "stdout",
     "output_type": "stream",
     "text": [
      "Epoch 1/10\n",
      "1875/1875 - 13s - loss: 0.2720 - accuracy: 0.9240 - 13s/epoch - 7ms/step\n",
      "Epoch 2/10\n",
      "1875/1875 - 13s - loss: 0.1150 - accuracy: 0.9660 - 13s/epoch - 7ms/step\n",
      "Epoch 3/10\n",
      "1875/1875 - 14s - loss: 0.0766 - accuracy: 0.9775 - 14s/epoch - 8ms/step\n",
      "Epoch 4/10\n",
      "1875/1875 - 12s - loss: 0.0568 - accuracy: 0.9830 - 12s/epoch - 6ms/step\n",
      "Epoch 5/10\n",
      "1875/1875 - 13s - loss: 0.0429 - accuracy: 0.9867 - 13s/epoch - 7ms/step\n",
      "Epoch 6/10\n",
      "1875/1875 - 13s - loss: 0.0338 - accuracy: 0.9897 - 13s/epoch - 7ms/step\n",
      "Epoch 7/10\n",
      "1875/1875 - 13s - loss: 0.0259 - accuracy: 0.9918 - 13s/epoch - 7ms/step\n",
      "Epoch 8/10\n",
      "1875/1875 - 12s - loss: 0.0213 - accuracy: 0.9932 - 12s/epoch - 6ms/step\n",
      "Epoch 9/10\n",
      "1875/1875 - 13s - loss: 0.0171 - accuracy: 0.9947 - 13s/epoch - 7ms/step\n",
      "Epoch 10/10\n",
      "1875/1875 - 13s - loss: 0.0157 - accuracy: 0.9947 - 13s/epoch - 7ms/step\n"
     ]
    },
    {
     "data": {
      "text/plain": [
       "<keras.callbacks.History at 0x2764fef45e0>"
      ]
     },
     "execution_count": 12,
     "metadata": {},
     "output_type": "execute_result"
    }
   ],
   "source": [
    "model.compile(optimizer=\"adam\", loss=\"sparse_categorical_crossentropy\", metrics=[\"accuracy\"])\n",
    "model.fit(X_train, y_train, epochs=10, batch_size=32, verbose=2)"
   ]
  },
  {
   "cell_type": "code",
   "execution_count": 13,
   "id": "fad11b36",
   "metadata": {},
   "outputs": [
    {
     "name": "stdout",
     "output_type": "stream",
     "text": [
      "1875/1875 [==============================] - 4s 2ms/step\n",
      "313/313 [==============================] - 1s 2ms/step\n"
     ]
    }
   ],
   "source": [
    "# Extract features and labels from the trained LSTM model\n",
    "feature_extractor = Sequential(model.layers[:-1])  # Remove the last Dense layer\n",
    "train_features = feature_extractor.predict(X_train)\n",
    "test_features = feature_extractor.predict(X_test)"
   ]
  },
  {
   "cell_type": "code",
   "execution_count": 14,
   "id": "a0ba6b4e",
   "metadata": {},
   "outputs": [],
   "source": [
    "# Reshape features for saving to Excel\n",
    "train_features = train_features.reshape((train_features.shape[0], -1))\n",
    "test_features = test_features.reshape((test_features.shape[0], -1))\n"
   ]
  },
  {
   "cell_type": "code",
   "execution_count": 15,
   "id": "656eab05",
   "metadata": {},
   "outputs": [],
   "source": [
    "# Combine features with labels\n",
    "train_df = pd.DataFrame(np.column_stack((train_features, y_train)), columns=[f'feature_{i}' for i in range(train_features.shape[1])] + ['label'])\n",
    "test_df = pd.DataFrame(np.column_stack((test_features, y_test)), columns=[f'feature_{i}' for i in range(test_features.shape[1])] + ['label'])\n"
   ]
  },
  {
   "cell_type": "code",
   "execution_count": 16,
   "id": "f3a7a305",
   "metadata": {},
   "outputs": [],
   "source": [
    "# Save features and labels to Excel files\n",
    "train_df.to_excel('lstm_train_features_labels.xlsx', index=False)\n",
    "test_df.to_excel('lstm_test_features_labels.xlsx', index=False)"
   ]
  },
  {
   "cell_type": "markdown",
   "id": "5c0c1800",
   "metadata": {},
   "source": [
    "# Save the combined features and labels to Excel files"
   ]
  },
  {
   "cell_type": "code",
   "execution_count": 23,
   "id": "98f724d2",
   "metadata": {},
   "outputs": [],
   "source": [
    "import pandas as pd\n",
    "from sklearn.utils import shuffle\n",
    "\n",
    "# Load the extracted features and labels from both models\n",
    "lstm_train_df = pd.read_excel('lstm_train_features_labels.xlsx')\n",
    "lstm_test_df = pd.read_excel('lstm_test_features_labels.xlsx')\n",
    "rnn_train_df = pd.read_excel('rnn_train_features_labels.xlsx')\n",
    "rnn_test_df = pd.read_excel('rnn_test_features_labels.xlsx')\n",
    "\n",
    "# Combine features column-wise\n",
    "combined_train_df = pd.concat([lstm_train_df.drop('label', axis=1), rnn_train_df.drop('label', axis=1), lstm_train_df['label']], axis=1)\n",
    "combined_test_df = pd.concat([lstm_test_df.drop('label', axis=1), rnn_test_df.drop('label', axis=1), lstm_test_df['label']], axis=1)\n",
    "\n",
    "# Shuffle the combined data\n",
    "combined_train_df = shuffle(combined_train_df)\n",
    "combined_test_df = shuffle(combined_test_df)\n",
    "\n",
    "# Save the combined features and labels to Excel files\n",
    "combined_train_df.to_excel('combined_train_features_labels.xlsx', index=False)\n",
    "combined_test_df.to_excel('combined_test_features_labels.xlsx', index=False)\n"
   ]
  },
  {
   "cell_type": "code",
   "execution_count": 25,
   "id": "75127ca5",
   "metadata": {},
   "outputs": [],
   "source": [
    "import pandas as pd\n",
    "from sklearn.model_selection import train_test_split\n",
    "from sklearn.neighbors import KNeighborsClassifier\n",
    "from sklearn.metrics import accuracy_score, f1_score, precision_score, recall_score, roc_curve, auc, confusion_matrix, precision_recall_curve\n",
    "import matplotlib.pyplot as plt\n",
    "\n",
    "# Load combined features and labels\n",
    "combined_train_df = pd.read_excel('combined_train_features_labels.xlsx')\n",
    "combined_test_df = pd.read_excel('combined_test_features_labels.xlsx')\n",
    "\n",
    "# Separate features and labels\n",
    "X_train = combined_train_df.drop('label', axis=1)\n",
    "y_train = combined_train_df['label']\n",
    "X_test = combined_test_df.drop('label', axis=1)\n",
    "y_test = combined_test_df['label']"
   ]
  },
  {
   "cell_type": "markdown",
   "id": "32804ee2",
   "metadata": {},
   "source": [
    "# Apply k-NN with k=27"
   ]
  },
  {
   "cell_type": "code",
   "execution_count": 26,
   "id": "c1a06bec",
   "metadata": {},
   "outputs": [],
   "source": [
    "# Apply k-NN with k=27\n",
    "knn_classifier = KNeighborsClassifier(n_neighbors=27)\n",
    "knn_classifier.fit(X_train, y_train)\n",
    "\n",
    "# Make predictions\n",
    "y_pred = knn_classifier.predict(X_test)"
   ]
  },
  {
   "cell_type": "code",
   "execution_count": 27,
   "id": "12cfaa6e",
   "metadata": {},
   "outputs": [],
   "source": [
    "# Evaluate performance metrics\n",
    "accuracy = accuracy_score(y_test, y_pred)\n",
    "f1 = f1_score(y_test, y_pred, average='weighted')\n",
    "precision = precision_score(y_test, y_pred, average='weighted')\n",
    "recall = recall_score(y_test, y_pred, average='weighted')\n",
    "conf_matrix = confusion_matrix(y_test, y_pred)"
   ]
  },
  {
   "cell_type": "code",
   "execution_count": 33,
   "id": "eeb1eb64",
   "metadata": {},
   "outputs": [
    {
     "name": "stdout",
     "output_type": "stream",
     "text": [
      "Accuracy: 0.9734\n",
      "F1 Score: 0.9734\n",
      "Precision: 0.9735\n",
      "Recall: 0.9734\n",
      "Confusion Matrix:\n",
      "[[ 970    0    1    0    0    1    4    1    1    2]\n",
      " [   0 1129    2    1    0    0    2    0    1    0]\n",
      " [  13    1  990    3    2    1    4    7   11    0]\n",
      " [   0    0    7  967    0    9    0   11   11    5]\n",
      " [   2    1    2    0  949    0    8    1    0   19]\n",
      " [   3    1    0    4    3  862   11    2    2    4]\n",
      " [   4    5    0    0    1    2  946    0    0    0]\n",
      " [   1   13    7    0    1    1    1  993    0   11]\n",
      " [   3    1    1    1    5    3    3    4  949    4]\n",
      " [   2    4    0    6    5    2    0    8    3  979]]\n"
     ]
    }
   ],
   "source": [
    "\n",
    "# Display the results\n",
    "print(f'Accuracy: {accuracy:.4f}')\n",
    "print(f'F1 Score: {f1:.4f}')\n",
    "print(f'Precision: {precision:.4f}')\n",
    "print(f'Recall: {recall:.4f}')\n",
    "print('Confusion Matrix:')\n",
    "print(conf_matrix)"
   ]
  },
  {
   "cell_type": "code",
   "execution_count": 34,
   "id": "3d80ba19",
   "metadata": {},
   "outputs": [],
   "source": [
    "import pandas as pd\n",
    "from sklearn.model_selection import train_test_split\n",
    "from sklearn.svm import SVC\n",
    "from sklearn.metrics import accuracy_score, f1_score, precision_score, recall_score, roc_auc_score, confusion_matrix, precision_recall_curve\n",
    "import matplotlib.pyplot as plt\n",
    "\n",
    "# Load combined features and labels\n",
    "combined_train_df = pd.read_excel('combined_train_features_labels.xlsx')\n",
    "combined_test_df = pd.read_excel('combined_test_features_labels.xlsx')\n",
    "\n",
    "# Separate features and labels\n",
    "X_train = combined_train_df.drop('label', axis=1)\n",
    "y_train = combined_train_df['label']\n",
    "X_test = combined_test_df.drop('label', axis=1)\n",
    "y_test = combined_test_df['label']"
   ]
  },
  {
   "cell_type": "markdown",
   "id": "3a78a691",
   "metadata": {},
   "source": [
    "# Apply SVM with linear kernel"
   ]
  },
  {
   "cell_type": "code",
   "execution_count": 35,
   "id": "956abf68",
   "metadata": {},
   "outputs": [],
   "source": [
    "# Apply SVM with linear kernel\n",
    "svm_linear_classifier = SVC(kernel='linear')\n",
    "svm_linear_classifier.fit(X_train, y_train)\n",
    "\n",
    "# Make predictions\n",
    "y_pred_linear = svm_linear_classifier.predict(X_test)\n",
    "\n",
    "# Evaluate performance metrics for linear kernel\n",
    "accuracy_linear = accuracy_score(y_test, y_pred_linear)\n",
    "f1_linear = f1_score(y_test, y_pred_linear, average='weighted')\n",
    "precision_linear = precision_score(y_test, y_pred_linear, average='weighted')\n",
    "recall_linear = recall_score(y_test, y_pred_linear, average='weighted')\n",
    "conf_matrix_linear = confusion_matrix(y_test, y_pred_linear)"
   ]
  },
  {
   "cell_type": "code",
   "execution_count": 38,
   "id": "8d6d391a",
   "metadata": {},
   "outputs": [
    {
     "name": "stdout",
     "output_type": "stream",
     "text": [
      "Linear Kernel Results:\n",
      "Accuracy: 0.9820\n",
      "F1 Score: 0.9820\n",
      "Precision: 0.9820\n",
      "Recall: 0.9820\n",
      "ROC AUC: 0.9899\n",
      "Confusion Matrix:\n",
      "[[ 970    0    2    0    1    0    3    1    2    1]\n",
      " [   0 1128    1    2    0    1    1    1    1    0]\n",
      " [   6    2 1009    2    1    0    0    6    6    0]\n",
      " [   0    0    1  995    0    5    0    3    3    3]\n",
      " [   0    1    6    0  962    0    3    2    1    7]\n",
      " [   2    0    0    8    1  873    3    1    1    3]\n",
      " [   3    2    0    1    2    4  946    0    0    0]\n",
      " [   0    3    8    3    1    0    0 1003    2    8]\n",
      " [   0    0    2    5    4    1    0    4  956    2]\n",
      " [   2    2    0    7   10    2    0    6    2  978]]\n"
     ]
    }
   ],
   "source": [
    "# Display the results for linear kernel\n",
    "print('Linear Kernel Results:')\n",
    "print(f'Accuracy: {accuracy_linear:.4f}')\n",
    "print(f'F1 Score: {f1_linear:.4f}')\n",
    "print(f'Precision: {precision_linear:.4f}')\n",
    "print(f'Recall: {recall_linear:.4f}')\n",
    "print(f'ROC AUC: {roc_auc_linear:.4f}')\n",
    "print('Confusion Matrix:')\n",
    "print(conf_matrix_linear)"
   ]
  },
  {
   "cell_type": "markdown",
   "id": "b1aec8bf",
   "metadata": {},
   "source": [
    "# Apply SVM with non-linear kernel"
   ]
  },
  {
   "cell_type": "code",
   "execution_count": 39,
   "id": "88108fa7",
   "metadata": {},
   "outputs": [],
   "source": [
    "# Apply SVM with non-linear kernel \n",
    "svm_nonlinear_classifier = SVC(kernel='rbf') \n",
    "svm_nonlinear_classifier.fit(X_train, y_train)\n",
    "\n",
    "# Make predictions\n",
    "y_pred_nonlinear = svm_nonlinear_classifier.predict(X_test)\n",
    "\n",
    "# Evaluate performance metrics for non-linear kernel\n",
    "accuracy_nonlinear = accuracy_score(y_test, y_pred_nonlinear)\n",
    "f1_nonlinear = f1_score(y_test, y_pred_nonlinear, average='weighted')\n",
    "precision_nonlinear = precision_score(y_test, y_pred_nonlinear, average='weighted')\n",
    "recall_nonlinear = recall_score(y_test, y_pred_nonlinear, average='weighted')\n",
    "conf_matrix_nonlinear = confusion_matrix(y_test, y_pred_nonlinear)\n"
   ]
  },
  {
   "cell_type": "code",
   "execution_count": 41,
   "id": "c86f5602",
   "metadata": {},
   "outputs": [
    {
     "name": "stdout",
     "output_type": "stream",
     "text": [
      "Non-Linear Kernel Results:\n",
      "Accuracy: 0.9845\n",
      "F1 Score: 0.9845\n",
      "Precision: 0.9845\n",
      "Recall: 0.9845\n",
      "Confusion Matrix:\n",
      "[[ 971    0    2    0    1    1    2    1    1    1]\n",
      " [   0 1127    2    2    0    1    1    1    1    0]\n",
      " [   6    1 1015    1    1    0    1    3    3    1]\n",
      " [   0    0    1  996    0    4    0    5    3    1]\n",
      " [   1    0    5    0  962    0    3    1    0   10]\n",
      " [   2    0    0    4    1  877    2    1    3    2]\n",
      " [   2    2    0    1    2    4  947    0    0    0]\n",
      " [   0    3    7    1    1    0    0 1008    3    5]\n",
      " [   1    0    1    3    3    3    0    3  958    2]\n",
      " [   2    2    0    5    6    2    0    7    1  984]]\n"
     ]
    }
   ],
   "source": [
    "# Display the results for non-linear kernel\n",
    "print('Non-Linear Kernel Results:')\n",
    "print(f'Accuracy: {accuracy_nonlinear:.4f}')\n",
    "print(f'F1 Score: {f1_nonlinear:.4f}')\n",
    "print(f'Precision: {precision_nonlinear:.4f}')\n",
    "print(f'Recall: {recall_nonlinear:.4f}')\n",
    "print('Confusion Matrix:')\n",
    "print(conf_matrix_nonlinear)"
   ]
  },
  {
   "cell_type": "markdown",
   "id": "af95fe56",
   "metadata": {},
   "source": [
    "# 128 Features from MNIST using RNN"
   ]
  },
  {
   "cell_type": "code",
   "execution_count": 45,
   "id": "5eff6e93",
   "metadata": {},
   "outputs": [],
   "source": [
    "# Build and train the RNN model\n",
    "model = Sequential()\n",
    "model.add(SimpleRNN(128, input_shape=(1, input_dim), activation=\"relu\"))\n",
    "model.add(Dense(10, activation=\"softmax\"))\n",
    "model.compile(optimizer=\"adam\", loss=\"categorical_crossentropy\", metrics=[\"accuracy\"])"
   ]
  },
  {
   "cell_type": "code",
   "execution_count": 46,
   "id": "9d2f6f03",
   "metadata": {},
   "outputs": [
    {
     "name": "stdout",
     "output_type": "stream",
     "text": [
      "Epoch 1/10\n",
      "1875/1875 - 8s - loss: 0.2531 - accuracy: 0.9292 - 8s/epoch - 4ms/step\n",
      "Epoch 2/10\n",
      "1875/1875 - 8s - loss: 0.1128 - accuracy: 0.9670 - 8s/epoch - 4ms/step\n",
      "Epoch 3/10\n",
      "1875/1875 - 7s - loss: 0.0793 - accuracy: 0.9763 - 7s/epoch - 4ms/step\n",
      "Epoch 4/10\n",
      "1875/1875 - 7s - loss: 0.0582 - accuracy: 0.9822 - 7s/epoch - 4ms/step\n",
      "Epoch 5/10\n",
      "1875/1875 - 7s - loss: 0.0451 - accuracy: 0.9864 - 7s/epoch - 4ms/step\n",
      "Epoch 6/10\n",
      "1875/1875 - 7s - loss: 0.0359 - accuracy: 0.9890 - 7s/epoch - 4ms/step\n",
      "Epoch 7/10\n",
      "1875/1875 - 7s - loss: 0.0285 - accuracy: 0.9910 - 7s/epoch - 4ms/step\n",
      "Epoch 8/10\n",
      "1875/1875 - 7s - loss: 0.0225 - accuracy: 0.9934 - 7s/epoch - 4ms/step\n",
      "Epoch 9/10\n",
      "1875/1875 - 7s - loss: 0.0189 - accuracy: 0.9941 - 7s/epoch - 4ms/step\n",
      "Epoch 10/10\n",
      "1875/1875 - 7s - loss: 0.0146 - accuracy: 0.9954 - 7s/epoch - 4ms/step\n"
     ]
    },
    {
     "data": {
      "text/plain": [
       "<keras.callbacks.History at 0x276b2614cd0>"
      ]
     },
     "execution_count": 46,
     "metadata": {},
     "output_type": "execute_result"
    }
   ],
   "source": [
    "model.fit(X_train, y_train_one_hot, epochs=10, batch_size=32, verbose=2)"
   ]
  },
  {
   "cell_type": "code",
   "execution_count": 47,
   "id": "63b8295a",
   "metadata": {},
   "outputs": [
    {
     "name": "stdout",
     "output_type": "stream",
     "text": [
      "1875/1875 [==============================] - 4s 2ms/step\n",
      "313/313 [==============================] - 1s 2ms/step\n"
     ]
    }
   ],
   "source": [
    "# Extract features from the trained RNN model\n",
    "feature_extractor = Sequential(model.layers[:-1])  # Remove the last Dense layer\n",
    "train_features = feature_extractor.predict(X_train)\n",
    "test_features = feature_extractor.predict(X_test)"
   ]
  },
  {
   "cell_type": "code",
   "execution_count": 48,
   "id": "193acd55",
   "metadata": {},
   "outputs": [],
   "source": [
    "# Reshape features for saving to Excel\n",
    "train_features = train_features.reshape((train_features.shape[0], -1))\n",
    "test_features = test_features.reshape((test_features.shape[0], -1))"
   ]
  },
  {
   "cell_type": "code",
   "execution_count": 49,
   "id": "c09501d5",
   "metadata": {},
   "outputs": [],
   "source": [
    "# Combine features with labels\n",
    "train_df = pd.DataFrame(np.column_stack((train_features, y_train)), columns=[f'feature_{i}' for i in range(train_features.shape[1])] + ['label'])\n",
    "test_df = pd.DataFrame(np.column_stack((test_features, y_test)), columns=[f'feature_{i}' for i in range(test_features.shape[1])] + ['label'])\n"
   ]
  },
  {
   "cell_type": "code",
   "execution_count": 50,
   "id": "9d441fdb",
   "metadata": {},
   "outputs": [],
   "source": [
    "# Save features and labels to Excel files\n",
    "train_df.to_excel('rnn_128_train_features_labels.xlsx', index=False)\n",
    "test_df.to_excel('rnn_128_test_features_labels.xlsx', index=False)"
   ]
  },
  {
   "cell_type": "markdown",
   "id": "9589a686",
   "metadata": {},
   "source": [
    "# 128 Features from MNIST using LSTM"
   ]
  },
  {
   "cell_type": "code",
   "execution_count": 64,
   "id": "96f5bc2b",
   "metadata": {},
   "outputs": [
    {
     "name": "stdout",
     "output_type": "stream",
     "text": [
      "WARNING:tensorflow:Layer lstm_1 will not use cuDNN kernels since it doesn't meet the criteria. It will use a generic GPU kernel as fallback when running on GPU.\n"
     ]
    }
   ],
   "source": [
    "num_classes = 10\n",
    "memory_cell = 128\n",
    "\n",
    "# Build and train the LSTM model\n",
    "model = Sequential()\n",
    "model.add(LSTM(memory_cell, input_shape=(1, input_dim), activation=\"relu\"))\n",
    "model.add(Dense(num_classes, activation=\"softmax\"))"
   ]
  },
  {
   "cell_type": "code",
   "execution_count": 65,
   "id": "6a7c5205",
   "metadata": {},
   "outputs": [
    {
     "name": "stdout",
     "output_type": "stream",
     "text": [
      "Epoch 1/10\n",
      "1875/1875 - 14s - loss: 0.2514 - accuracy: 0.9283 - 14s/epoch - 7ms/step\n",
      "Epoch 2/10\n",
      "1875/1875 - 12s - loss: 0.1038 - accuracy: 0.9697 - 12s/epoch - 7ms/step\n",
      "Epoch 3/10\n",
      "1875/1875 - 13s - loss: 0.0683 - accuracy: 0.9800 - 13s/epoch - 7ms/step\n",
      "Epoch 4/10\n",
      "1875/1875 - 12s - loss: 0.0488 - accuracy: 0.9855 - 12s/epoch - 6ms/step\n",
      "Epoch 5/10\n",
      "1875/1875 - 12s - loss: 0.0341 - accuracy: 0.9901 - 12s/epoch - 7ms/step\n",
      "Epoch 6/10\n",
      "1875/1875 - 12s - loss: 0.0259 - accuracy: 0.9917 - 12s/epoch - 6ms/step\n",
      "Epoch 7/10\n",
      "1875/1875 - 12s - loss: 0.0209 - accuracy: 0.9937 - 12s/epoch - 7ms/step\n",
      "Epoch 8/10\n",
      "1875/1875 - 13s - loss: 0.0151 - accuracy: 0.9954 - 13s/epoch - 7ms/step\n",
      "Epoch 9/10\n",
      "1875/1875 - 15s - loss: 0.0130 - accuracy: 0.9961 - 15s/epoch - 8ms/step\n",
      "Epoch 10/10\n",
      "1875/1875 - 12s - loss: 0.0119 - accuracy: 0.9962 - 12s/epoch - 6ms/step\n"
     ]
    },
    {
     "data": {
      "text/plain": [
       "<keras.callbacks.History at 0x276f228d0f0>"
      ]
     },
     "execution_count": 65,
     "metadata": {},
     "output_type": "execute_result"
    }
   ],
   "source": [
    "model.compile(optimizer=\"adam\", loss=\"sparse_categorical_crossentropy\", metrics=[\"accuracy\"])\n",
    "model.fit(X_train, y_train, epochs=10, batch_size=32, verbose=2)"
   ]
  },
  {
   "cell_type": "code",
   "execution_count": 66,
   "id": "ace971d8",
   "metadata": {},
   "outputs": [
    {
     "name": "stdout",
     "output_type": "stream",
     "text": [
      "1875/1875 [==============================] - 4s 2ms/step\n",
      "313/313 [==============================] - 1s 2ms/step\n"
     ]
    }
   ],
   "source": [
    "# Extract features and labels from the trained LSTM model\n",
    "feature_extractor = Sequential(model.layers[:-1])  # Remove the last Dense layer\n",
    "train_features = feature_extractor.predict(X_train)\n",
    "test_features = feature_extractor.predict(X_test)"
   ]
  },
  {
   "cell_type": "code",
   "execution_count": 67,
   "id": "613fd030",
   "metadata": {},
   "outputs": [],
   "source": [
    "# Reshape features for saving to Excel\n",
    "train_features = train_features.reshape((train_features.shape[0], -1))\n",
    "test_features = test_features.reshape((test_features.shape[0], -1))\n"
   ]
  },
  {
   "cell_type": "code",
   "execution_count": 68,
   "id": "c7b9110b",
   "metadata": {},
   "outputs": [],
   "source": [
    "# Combine features with labels\n",
    "train_df = pd.DataFrame(np.column_stack((train_features, y_train)), columns=[f'feature_{i}' for i in range(train_features.shape[1])] + ['label'])\n",
    "test_df = pd.DataFrame(np.column_stack((test_features, y_test)), columns=[f'feature_{i}' for i in range(test_features.shape[1])] + ['label'])\n"
   ]
  },
  {
   "cell_type": "code",
   "execution_count": 69,
   "id": "8ef976e6",
   "metadata": {},
   "outputs": [],
   "source": [
    "# Save features and labels to Excel files\n",
    "train_df.to_excel('lstm_128_train_features_labels.xlsx', index=False)\n",
    "test_df.to_excel('lstm_128_test_features_labels.xlsx', index=False)"
   ]
  },
  {
   "cell_type": "code",
   "execution_count": null,
   "id": "f42459f9",
   "metadata": {},
   "outputs": [],
   "source": []
  },
  {
   "cell_type": "markdown",
   "id": "41737fa0",
   "metadata": {},
   "source": [
    "# 256 Features from MNIST using RNN"
   ]
  },
  {
   "cell_type": "code",
   "execution_count": 51,
   "id": "9ebf2eb8",
   "metadata": {},
   "outputs": [],
   "source": [
    "# Build and train the RNN model\n",
    "model = Sequential()\n",
    "model.add(SimpleRNN(256, input_shape=(1, input_dim), activation=\"relu\"))\n",
    "model.add(Dense(10, activation=\"softmax\"))\n",
    "model.compile(optimizer=\"adam\", loss=\"categorical_crossentropy\", metrics=[\"accuracy\"])"
   ]
  },
  {
   "cell_type": "code",
   "execution_count": 52,
   "id": "00b738e8",
   "metadata": {},
   "outputs": [
    {
     "name": "stdout",
     "output_type": "stream",
     "text": [
      "Epoch 1/10\n",
      "1875/1875 - 9s - loss: 0.2262 - accuracy: 0.9338 - 9s/epoch - 5ms/step\n",
      "Epoch 2/10\n",
      "1875/1875 - 8s - loss: 0.0937 - accuracy: 0.9721 - 8s/epoch - 4ms/step\n",
      "Epoch 3/10\n",
      "1875/1875 - 10s - loss: 0.0617 - accuracy: 0.9808 - 10s/epoch - 6ms/step\n",
      "Epoch 4/10\n",
      "1875/1875 - 8s - loss: 0.0444 - accuracy: 0.9860 - 8s/epoch - 5ms/step\n",
      "Epoch 5/10\n",
      "1875/1875 - 8s - loss: 0.0335 - accuracy: 0.9894 - 8s/epoch - 5ms/step\n",
      "Epoch 6/10\n",
      "1875/1875 - 8s - loss: 0.0244 - accuracy: 0.9927 - 8s/epoch - 4ms/step\n",
      "Epoch 7/10\n",
      "1875/1875 - 9s - loss: 0.0209 - accuracy: 0.9931 - 9s/epoch - 5ms/step\n",
      "Epoch 8/10\n",
      "1875/1875 - 9s - loss: 0.0147 - accuracy: 0.9952 - 9s/epoch - 5ms/step\n",
      "Epoch 9/10\n",
      "1875/1875 - 9s - loss: 0.0129 - accuracy: 0.9959 - 9s/epoch - 5ms/step\n",
      "Epoch 10/10\n",
      "1875/1875 - 9s - loss: 0.0132 - accuracy: 0.9957 - 9s/epoch - 5ms/step\n"
     ]
    },
    {
     "data": {
      "text/plain": [
       "<keras.callbacks.History at 0x2775cb1d000>"
      ]
     },
     "execution_count": 52,
     "metadata": {},
     "output_type": "execute_result"
    }
   ],
   "source": [
    "model.fit(X_train, y_train_one_hot, epochs=10, batch_size=32, verbose=2)"
   ]
  },
  {
   "cell_type": "code",
   "execution_count": 53,
   "id": "c6c759ec",
   "metadata": {},
   "outputs": [
    {
     "name": "stdout",
     "output_type": "stream",
     "text": [
      "1875/1875 [==============================] - 3s 2ms/step\n",
      "313/313 [==============================] - 1s 2ms/step\n"
     ]
    }
   ],
   "source": [
    "# Extract features from the trained RNN model\n",
    "feature_extractor = Sequential(model.layers[:-1])  # Remove the last Dense layer\n",
    "train_features = feature_extractor.predict(X_train)\n",
    "test_features = feature_extractor.predict(X_test)"
   ]
  },
  {
   "cell_type": "code",
   "execution_count": 54,
   "id": "78dec5b9",
   "metadata": {},
   "outputs": [],
   "source": [
    "# Reshape features for saving to Excel\n",
    "train_features = train_features.reshape((train_features.shape[0], -1))\n",
    "test_features = test_features.reshape((test_features.shape[0], -1))"
   ]
  },
  {
   "cell_type": "code",
   "execution_count": 55,
   "id": "0cb527e4",
   "metadata": {},
   "outputs": [],
   "source": [
    "# Combine features with labels\n",
    "train_df = pd.DataFrame(np.column_stack((train_features, y_train)), columns=[f'feature_{i}' for i in range(train_features.shape[1])] + ['label'])\n",
    "test_df = pd.DataFrame(np.column_stack((test_features, y_test)), columns=[f'feature_{i}' for i in range(test_features.shape[1])] + ['label'])\n"
   ]
  },
  {
   "cell_type": "code",
   "execution_count": 56,
   "id": "ab5c3316",
   "metadata": {},
   "outputs": [],
   "source": [
    "# Save features and labels to Excel files\n",
    "train_df.to_excel('rnn_256_train_features_labels.xlsx', index=False)\n",
    "test_df.to_excel('rnn_256_test_features_labels.xlsx', index=False)"
   ]
  },
  {
   "cell_type": "markdown",
   "id": "7564838d",
   "metadata": {},
   "source": [
    "# 256 Features from MNIST using LSTM"
   ]
  },
  {
   "cell_type": "code",
   "execution_count": 76,
   "id": "0612b18a",
   "metadata": {},
   "outputs": [
    {
     "name": "stdout",
     "output_type": "stream",
     "text": [
      "WARNING:tensorflow:Layer lstm_2 will not use cuDNN kernels since it doesn't meet the criteria. It will use a generic GPU kernel as fallback when running on GPU.\n"
     ]
    }
   ],
   "source": [
    "num_classes = 10\n",
    "memory_cell = 256\n",
    "\n",
    "# Build and train the LSTM model\n",
    "model = Sequential()\n",
    "model.add(LSTM(memory_cell, input_shape=(1, input_dim), activation=\"relu\"))\n",
    "model.add(Dense(num_classes, activation=\"softmax\"))"
   ]
  },
  {
   "cell_type": "code",
   "execution_count": 77,
   "id": "b17ea2e4",
   "metadata": {},
   "outputs": [
    {
     "name": "stdout",
     "output_type": "stream",
     "text": [
      "Epoch 1/10\n",
      "1875/1875 - 19s - loss: 0.2317 - accuracy: 0.9343 - 19s/epoch - 10ms/step\n",
      "Epoch 2/10\n",
      "1875/1875 - 15s - loss: 0.0911 - accuracy: 0.9727 - 15s/epoch - 8ms/step\n",
      "Epoch 3/10\n",
      "1875/1875 - 15s - loss: 0.0580 - accuracy: 0.9817 - 15s/epoch - 8ms/step\n",
      "Epoch 4/10\n",
      "1875/1875 - 14s - loss: 0.0384 - accuracy: 0.9877 - 14s/epoch - 8ms/step\n",
      "Epoch 5/10\n",
      "1875/1875 - 14s - loss: 0.0262 - accuracy: 0.9912 - 14s/epoch - 8ms/step\n",
      "Epoch 6/10\n",
      "1875/1875 - 15s - loss: 0.0195 - accuracy: 0.9940 - 15s/epoch - 8ms/step\n",
      "Epoch 7/10\n",
      "1875/1875 - 15s - loss: 0.0164 - accuracy: 0.9945 - 15s/epoch - 8ms/step\n",
      "Epoch 8/10\n",
      "1875/1875 - 15s - loss: 0.0128 - accuracy: 0.9956 - 15s/epoch - 8ms/step\n",
      "Epoch 9/10\n",
      "1875/1875 - 14s - loss: 0.0105 - accuracy: 0.9966 - 14s/epoch - 8ms/step\n",
      "Epoch 10/10\n",
      "1875/1875 - 15s - loss: 0.0106 - accuracy: 0.9967 - 15s/epoch - 8ms/step\n"
     ]
    },
    {
     "data": {
      "text/plain": [
       "<keras.callbacks.History at 0x27843434d30>"
      ]
     },
     "execution_count": 77,
     "metadata": {},
     "output_type": "execute_result"
    }
   ],
   "source": [
    "model.compile(optimizer=\"adam\", loss=\"sparse_categorical_crossentropy\", metrics=[\"accuracy\"])\n",
    "model.fit(X_train, y_train, epochs=10, batch_size=32, verbose=2)"
   ]
  },
  {
   "cell_type": "code",
   "execution_count": 78,
   "id": "e85f9b45",
   "metadata": {},
   "outputs": [
    {
     "name": "stdout",
     "output_type": "stream",
     "text": [
      "1875/1875 [==============================] - 4s 2ms/step\n",
      "313/313 [==============================] - 1s 2ms/step\n"
     ]
    }
   ],
   "source": [
    "# Extract features and labels from the trained LSTM model\n",
    "feature_extractor = Sequential(model.layers[:-1])  # Remove the last Dense layer\n",
    "train_features = feature_extractor.predict(X_train)\n",
    "test_features = feature_extractor.predict(X_test)"
   ]
  },
  {
   "cell_type": "code",
   "execution_count": 79,
   "id": "986a74c6",
   "metadata": {},
   "outputs": [],
   "source": [
    "# Reshape features for saving to Excel\n",
    "train_features = train_features.reshape((train_features.shape[0], -1))\n",
    "test_features = test_features.reshape((test_features.shape[0], -1))"
   ]
  },
  {
   "cell_type": "code",
   "execution_count": 80,
   "id": "4aead798",
   "metadata": {},
   "outputs": [],
   "source": [
    "# Combine features with labels\n",
    "train_df = pd.DataFrame(np.column_stack((train_features, y_train)), columns=[f'feature_{i}' for i in range(train_features.shape[1])] + ['label'])\n",
    "test_df = pd.DataFrame(np.column_stack((test_features, y_test)), columns=[f'feature_{i}' for i in range(test_features.shape[1])] + ['label'])\n"
   ]
  },
  {
   "cell_type": "code",
   "execution_count": 81,
   "id": "a1d48002",
   "metadata": {},
   "outputs": [],
   "source": [
    "# Save features and labels to Excel files\n",
    "train_df.to_excel('lstm_256_train_features_labels.xlsx', index=False)\n",
    "test_df.to_excel('lstm_256_test_features_labels.xlsx', index=False)"
   ]
  },
  {
   "cell_type": "code",
   "execution_count": null,
   "id": "f9819d1d",
   "metadata": {},
   "outputs": [],
   "source": []
  },
  {
   "cell_type": "markdown",
   "id": "f2ff1091",
   "metadata": {},
   "source": [
    "# 512 Features from MNIST using LSTM"
   ]
  },
  {
   "cell_type": "code",
   "execution_count": 82,
   "id": "0c63a6d7",
   "metadata": {},
   "outputs": [
    {
     "name": "stdout",
     "output_type": "stream",
     "text": [
      "WARNING:tensorflow:Layer lstm_3 will not use cuDNN kernels since it doesn't meet the criteria. It will use a generic GPU kernel as fallback when running on GPU.\n"
     ]
    }
   ],
   "source": [
    "num_classes = 10\n",
    "memory_cell = 512\n",
    "\n",
    "# Build and train the LSTM model\n",
    "model = Sequential()\n",
    "model.add(LSTM(memory_cell, input_shape=(1, input_dim), activation=\"relu\"))\n",
    "model.add(Dense(num_classes, activation=\"softmax\"))"
   ]
  },
  {
   "cell_type": "code",
   "execution_count": 83,
   "id": "8b04f433",
   "metadata": {},
   "outputs": [
    {
     "name": "stdout",
     "output_type": "stream",
     "text": [
      "Epoch 1/10\n",
      "1875/1875 - 28s - loss: 0.2119 - accuracy: 0.9396 - 28s/epoch - 15ms/step\n",
      "Epoch 2/10\n",
      "1875/1875 - 27s - loss: 0.0793 - accuracy: 0.9760 - 27s/epoch - 14ms/step\n",
      "Epoch 3/10\n",
      "1875/1875 - 26s - loss: 0.0492 - accuracy: 0.9851 - 26s/epoch - 14ms/step\n",
      "Epoch 4/10\n",
      "1875/1875 - 26s - loss: 0.0338 - accuracy: 0.9893 - 26s/epoch - 14ms/step\n",
      "Epoch 5/10\n",
      "1875/1875 - 26s - loss: 0.0248 - accuracy: 0.9919 - 26s/epoch - 14ms/step\n",
      "Epoch 6/10\n",
      "1875/1875 - 26s - loss: 0.0170 - accuracy: 0.9945 - 26s/epoch - 14ms/step\n",
      "Epoch 7/10\n",
      "1875/1875 - 26s - loss: 0.0138 - accuracy: 0.9955 - 26s/epoch - 14ms/step\n",
      "Epoch 8/10\n",
      "1875/1875 - 26s - loss: 0.0117 - accuracy: 0.9963 - 26s/epoch - 14ms/step\n",
      "Epoch 9/10\n",
      "1875/1875 - 26s - loss: 0.0110 - accuracy: 0.9964 - 26s/epoch - 14ms/step\n",
      "Epoch 10/10\n",
      "1875/1875 - 26s - loss: 0.0091 - accuracy: 0.9970 - 26s/epoch - 14ms/step\n"
     ]
    },
    {
     "data": {
      "text/plain": [
       "<keras.callbacks.History at 0x2777250b8e0>"
      ]
     },
     "execution_count": 83,
     "metadata": {},
     "output_type": "execute_result"
    }
   ],
   "source": [
    "model.compile(optimizer=\"adam\", loss=\"sparse_categorical_crossentropy\", metrics=[\"accuracy\"])\n",
    "model.fit(X_train, y_train, epochs=10, batch_size=32, verbose=2)"
   ]
  },
  {
   "cell_type": "code",
   "execution_count": 84,
   "id": "72714303",
   "metadata": {},
   "outputs": [
    {
     "name": "stdout",
     "output_type": "stream",
     "text": [
      "1875/1875 [==============================] - 4s 2ms/step\n",
      "313/313 [==============================] - 1s 2ms/step\n"
     ]
    }
   ],
   "source": [
    "# Extract features and labels from the trained LSTM model\n",
    "feature_extractor = Sequential(model.layers[:-1])  # Remove the last Dense layer\n",
    "train_features = feature_extractor.predict(X_train)\n",
    "test_features = feature_extractor.predict(X_test)"
   ]
  },
  {
   "cell_type": "code",
   "execution_count": 85,
   "id": "c3404fe2",
   "metadata": {},
   "outputs": [],
   "source": [
    "# Reshape features for saving to Excel\n",
    "train_features = train_features.reshape((train_features.shape[0], -1))\n",
    "test_features = test_features.reshape((test_features.shape[0], -1))"
   ]
  },
  {
   "cell_type": "code",
   "execution_count": 86,
   "id": "baf8013a",
   "metadata": {},
   "outputs": [],
   "source": [
    "# Combine features with labels\n",
    "train_df = pd.DataFrame(np.column_stack((train_features, y_train)), columns=[f'feature_{i}' for i in range(train_features.shape[1])] + ['label'])\n",
    "test_df = pd.DataFrame(np.column_stack((test_features, y_test)), columns=[f'feature_{i}' for i in range(test_features.shape[1])] + ['label'])\n"
   ]
  },
  {
   "cell_type": "code",
   "execution_count": 87,
   "id": "ff4421f4",
   "metadata": {},
   "outputs": [],
   "source": [
    "# Save features and labels to Excel files\n",
    "train_df.to_excel('lstm_512_train_features_labels.xlsx', index=False)\n",
    "test_df.to_excel('lstm_512_test_features_labels.xlsx', index=False)"
   ]
  },
  {
   "cell_type": "code",
   "execution_count": null,
   "id": "e0740bc7",
   "metadata": {},
   "outputs": [],
   "source": []
  },
  {
   "cell_type": "markdown",
   "id": "9e440f35",
   "metadata": {},
   "source": [
    "# 512 Features from MNIST using RNN\n"
   ]
  },
  {
   "cell_type": "code",
   "execution_count": 70,
   "id": "50cc992c",
   "metadata": {},
   "outputs": [],
   "source": [
    "# Build and train the RNN model\n",
    "model = Sequential()\n",
    "model.add(SimpleRNN(512, input_shape=(1, input_dim), activation=\"relu\"))\n",
    "model.add(Dense(10, activation=\"softmax\"))\n",
    "model.compile(optimizer=\"adam\", loss=\"categorical_crossentropy\", metrics=[\"accuracy\"])"
   ]
  },
  {
   "cell_type": "code",
   "execution_count": 71,
   "id": "5a8f46b2",
   "metadata": {},
   "outputs": [
    {
     "name": "stdout",
     "output_type": "stream",
     "text": [
      "Epoch 1/10\n",
      "1875/1875 - 12s - loss: 0.2006 - accuracy: 0.9411 - 12s/epoch - 6ms/step\n",
      "Epoch 2/10\n",
      "1875/1875 - 11s - loss: 0.0808 - accuracy: 0.9753 - 11s/epoch - 6ms/step\n",
      "Epoch 3/10\n",
      "1875/1875 - 11s - loss: 0.0544 - accuracy: 0.9828 - 11s/epoch - 6ms/step\n",
      "Epoch 4/10\n",
      "1875/1875 - 11s - loss: 0.0391 - accuracy: 0.9870 - 11s/epoch - 6ms/step\n",
      "Epoch 5/10\n",
      "1875/1875 - 12s - loss: 0.0264 - accuracy: 0.9920 - 12s/epoch - 6ms/step\n",
      "Epoch 6/10\n",
      "1875/1875 - 11s - loss: 0.0212 - accuracy: 0.9933 - 11s/epoch - 6ms/step\n",
      "Epoch 7/10\n",
      "1875/1875 - 12s - loss: 0.0170 - accuracy: 0.9941 - 12s/epoch - 6ms/step\n",
      "Epoch 8/10\n",
      "1875/1875 - 12s - loss: 0.0153 - accuracy: 0.9951 - 12s/epoch - 7ms/step\n",
      "Epoch 9/10\n",
      "1875/1875 - 11s - loss: 0.0128 - accuracy: 0.9954 - 11s/epoch - 6ms/step\n",
      "Epoch 10/10\n",
      "1875/1875 - 11s - loss: 0.0100 - accuracy: 0.9969 - 11s/epoch - 6ms/step\n"
     ]
    },
    {
     "data": {
      "text/plain": [
       "<keras.callbacks.History at 0x2784328be50>"
      ]
     },
     "execution_count": 71,
     "metadata": {},
     "output_type": "execute_result"
    }
   ],
   "source": [
    "model.fit(X_train, y_train_one_hot, epochs=10, batch_size=32, verbose=2)"
   ]
  },
  {
   "cell_type": "code",
   "execution_count": 72,
   "id": "b1778d5f",
   "metadata": {},
   "outputs": [
    {
     "name": "stdout",
     "output_type": "stream",
     "text": [
      "1875/1875 [==============================] - 3s 2ms/step\n",
      "313/313 [==============================] - 1s 2ms/step\n"
     ]
    }
   ],
   "source": [
    "# Extract features from the trained RNN model\n",
    "feature_extractor = Sequential(model.layers[:-1])  # Remove the last Dense layer\n",
    "train_features = feature_extractor.predict(X_train)\n",
    "test_features = feature_extractor.predict(X_test)"
   ]
  },
  {
   "cell_type": "code",
   "execution_count": 73,
   "id": "e033af07",
   "metadata": {},
   "outputs": [],
   "source": [
    "# Reshape features for saving to Excel\n",
    "train_features = train_features.reshape((train_features.shape[0], -1))\n",
    "test_features = test_features.reshape((test_features.shape[0], -1))"
   ]
  },
  {
   "cell_type": "code",
   "execution_count": 74,
   "id": "60a68580",
   "metadata": {},
   "outputs": [],
   "source": [
    "# Combine features with labels\n",
    "train_df = pd.DataFrame(np.column_stack((train_features, y_train)), columns=[f'feature_{i}' for i in range(train_features.shape[1])] + ['label'])\n",
    "test_df = pd.DataFrame(np.column_stack((test_features, y_test)), columns=[f'feature_{i}' for i in range(test_features.shape[1])] + ['label'])\n"
   ]
  },
  {
   "cell_type": "code",
   "execution_count": 75,
   "id": "2c04e59c",
   "metadata": {},
   "outputs": [],
   "source": [
    "# Save features and labels to Excel files\n",
    "train_df.to_excel('rnn_512_train_features_labels.xlsx', index=False)\n",
    "test_df.to_excel('rnn_512_test_features_labels.xlsx', index=False)"
   ]
  },
  {
   "cell_type": "code",
   "execution_count": null,
   "id": "bfa158ce",
   "metadata": {},
   "outputs": [],
   "source": []
  },
  {
   "cell_type": "markdown",
   "id": "61fec24a",
   "metadata": {},
   "source": [
    "# Combined 128 Feature extracted from RNN and LSTM and Train KNN"
   ]
  },
  {
   "cell_type": "code",
   "execution_count": 88,
   "id": "0f46e9fc",
   "metadata": {},
   "outputs": [],
   "source": [
    "import pandas as pd\n",
    "from sklearn.utils import shuffle\n",
    "\n",
    "# Load the extracted features and labels from both models\n",
    "lstm_train_df = pd.read_excel('lstm_128_train_features_labels.xlsx')\n",
    "lstm_test_df = pd.read_excel('lstm_128_test_features_labels.xlsx')\n",
    "rnn_train_df = pd.read_excel('rnn_128_train_features_labels.xlsx')\n",
    "rnn_test_df = pd.read_excel('rnn_128_test_features_labels.xlsx')\n",
    "\n",
    "# Combine features column-wise\n",
    "combined_train_df = pd.concat([lstm_train_df.drop('label', axis=1), rnn_train_df.drop('label', axis=1), lstm_train_df['label']], axis=1)\n",
    "combined_test_df = pd.concat([lstm_test_df.drop('label', axis=1), rnn_test_df.drop('label', axis=1), lstm_test_df['label']], axis=1)\n",
    "\n",
    "# Shuffle the combined data\n",
    "combined_train_df = shuffle(combined_train_df)\n",
    "combined_test_df = shuffle(combined_test_df)\n",
    "\n",
    "# Save the combined features and labels to Excel files\n",
    "combined_train_df.to_excel('combined_128_train_features_labels.xlsx', index=False)\n",
    "combined_test_df.to_excel('combined_128_test_features_labels.xlsx', index=False)"
   ]
  },
  {
   "cell_type": "code",
   "execution_count": 89,
   "id": "67fa5963",
   "metadata": {},
   "outputs": [],
   "source": [
    "import pandas as pd\n",
    "from sklearn.model_selection import train_test_split\n",
    "from sklearn.neighbors import KNeighborsClassifier\n",
    "from sklearn.metrics import accuracy_score, f1_score, precision_score, recall_score, roc_curve, auc, confusion_matrix, precision_recall_curve\n",
    "import matplotlib.pyplot as plt\n",
    "\n",
    "# Load combined features and labels\n",
    "combined_train_df = pd.read_excel('combined_128_train_features_labels.xlsx')\n",
    "combined_test_df = pd.read_excel('combined_128_test_features_labels.xlsx')\n",
    "\n",
    "# Separate features and labels\n",
    "X_train = combined_train_df.drop('label', axis=1)\n",
    "y_train = combined_train_df['label']\n",
    "X_test = combined_test_df.drop('label', axis=1)\n",
    "y_test = combined_test_df['label']"
   ]
  },
  {
   "cell_type": "code",
   "execution_count": 90,
   "id": "264480e7",
   "metadata": {},
   "outputs": [],
   "source": [
    "# Apply k-NN with k=27\n",
    "knn_classifier = KNeighborsClassifier(n_neighbors=27)\n",
    "knn_classifier.fit(X_train, y_train)\n",
    "\n",
    "# Make predictions\n",
    "y_pred = knn_classifier.predict(X_test)"
   ]
  },
  {
   "cell_type": "code",
   "execution_count": 91,
   "id": "8aada888",
   "metadata": {},
   "outputs": [],
   "source": [
    "# Evaluate performance metrics\n",
    "accuracy = accuracy_score(y_test, y_pred)\n",
    "f1 = f1_score(y_test, y_pred, average='weighted')\n",
    "precision = precision_score(y_test, y_pred, average='weighted')\n",
    "recall = recall_score(y_test, y_pred, average='weighted')\n",
    "conf_matrix = confusion_matrix(y_test, y_pred)"
   ]
  },
  {
   "cell_type": "code",
   "execution_count": 92,
   "id": "3ad344ba",
   "metadata": {},
   "outputs": [
    {
     "name": "stdout",
     "output_type": "stream",
     "text": [
      "Accuracy: 0.9769\n",
      "F1 Score: 0.9769\n",
      "Precision: 0.9770\n",
      "Recall: 0.9769\n",
      "Confusion Matrix:\n",
      "[[ 971    1    0    0    0    1    4    1    1    1]\n",
      " [   0 1128    3    0    0    0    3    0    1    0]\n",
      " [   6    0 1000    0    1    0    4   10   10    1]\n",
      " [   0    0    3  979    0    8    0   11    7    2]\n",
      " [   0    1    0    0  954    0    9    2    1   15]\n",
      " [   3    0    0    3    1  869    9    1    3    3]\n",
      " [   5    4    0    0    2    3  944    0    0    0]\n",
      " [   1   14    9    0    0    0    0  996    0    8]\n",
      " [   1    0    2    3    3    4    3    3  950    5]\n",
      " [   2    4    0    5    4    2    1    8    5  978]]\n"
     ]
    }
   ],
   "source": [
    "# Display the results\n",
    "print(f'Accuracy: {accuracy:.4f}')\n",
    "print(f'F1 Score: {f1:.4f}')\n",
    "print(f'Precision: {precision:.4f}')\n",
    "print(f'Recall: {recall:.4f}')\n",
    "print('Confusion Matrix:')\n",
    "print(conf_matrix)"
   ]
  },
  {
   "cell_type": "markdown",
   "id": "437d7097",
   "metadata": {},
   "source": [
    "# SVM Linear Kernel Combined 128 Feature extracted from RNN and LSTM "
   ]
  },
  {
   "cell_type": "code",
   "execution_count": 93,
   "id": "d9cb76a7",
   "metadata": {},
   "outputs": [],
   "source": [
    "import pandas as pd\n",
    "from sklearn.model_selection import train_test_split\n",
    "from sklearn.svm import SVC\n",
    "from sklearn.metrics import accuracy_score, f1_score, precision_score, recall_score, roc_auc_score, confusion_matrix, precision_recall_curve\n",
    "import matplotlib.pyplot as plt\n",
    "\n",
    "# Load combined features and labels\n",
    "combined_train_df = pd.read_excel('combined_128_train_features_labels.xlsx')\n",
    "combined_test_df = pd.read_excel('combined_128_test_features_labels.xlsx')\n",
    "\n",
    "# Separate features and labels\n",
    "X_train = combined_train_df.drop('label', axis=1)\n",
    "y_train = combined_train_df['label']\n",
    "X_test = combined_test_df.drop('label', axis=1)\n",
    "y_test = combined_test_df['label']"
   ]
  },
  {
   "cell_type": "code",
   "execution_count": 94,
   "id": "a4fb4b7e",
   "metadata": {},
   "outputs": [],
   "source": [
    "# Apply SVM with linear kernel\n",
    "svm_linear_classifier = SVC(kernel='linear')\n",
    "svm_linear_classifier.fit(X_train, y_train)\n",
    "\n",
    "# Make predictions\n",
    "y_pred_linear = svm_linear_classifier.predict(X_test)\n",
    "\n",
    "# Evaluate performance metrics for linear kernel\n",
    "accuracy_linear = accuracy_score(y_test, y_pred_linear)\n",
    "f1_linear = f1_score(y_test, y_pred_linear, average='weighted')\n",
    "precision_linear = precision_score(y_test, y_pred_linear, average='weighted')\n",
    "recall_linear = recall_score(y_test, y_pred_linear, average='weighted')\n",
    "conf_matrix_linear = confusion_matrix(y_test, y_pred_linear)"
   ]
  },
  {
   "cell_type": "code",
   "execution_count": 95,
   "id": "02017d6f",
   "metadata": {},
   "outputs": [
    {
     "name": "stdout",
     "output_type": "stream",
     "text": [
      "Linear Kernel Results:\n",
      "Accuracy: 0.9832\n",
      "F1 Score: 0.9832\n",
      "Precision: 0.9832\n",
      "Recall: 0.9832\n",
      "ROC AUC: 0.9899\n",
      "Confusion Matrix:\n",
      "[[ 973    1    0    0    0    0    3    1    2    0]\n",
      " [   0 1124    2    2    0    1    2    1    3    0]\n",
      " [   1    0 1014    3    1    0    1    8    4    0]\n",
      " [   0    0    3  989    0    5    0    6    2    5]\n",
      " [   1    2    2    1  965    0    2    1    1    7]\n",
      " [   1    0    0    7    1  874    4    0    4    1]\n",
      " [   4    2    0    1    3    2  945    0    1    0]\n",
      " [   0    1    8    1    1    1    0 1007    1    8]\n",
      " [   2    1    3    2    1    2    2    2  956    3]\n",
      " [   1    2    0    5    7    3    0    5    1  985]]\n"
     ]
    }
   ],
   "source": [
    "# Display the results for linear kernel\n",
    "print('Linear Kernel Results:')\n",
    "print(f'Accuracy: {accuracy_linear:.4f}')\n",
    "print(f'F1 Score: {f1_linear:.4f}')\n",
    "print(f'Precision: {precision_linear:.4f}')\n",
    "print(f'Recall: {recall_linear:.4f}')\n",
    "print(f'ROC AUC: {roc_auc_linear:.4f}')\n",
    "print('Confusion Matrix:')\n",
    "print(conf_matrix_linear)"
   ]
  },
  {
   "cell_type": "markdown",
   "id": "6dbea2b1",
   "metadata": {},
   "source": [
    "# Apply SVM with non-linear kernel (rbf)"
   ]
  },
  {
   "cell_type": "code",
   "execution_count": 96,
   "id": "1bfd9ebc",
   "metadata": {},
   "outputs": [],
   "source": [
    "svm_nonlinear_classifier = SVC(kernel='rbf') \n",
    "svm_nonlinear_classifier.fit(X_train, y_train)\n",
    "\n",
    "# Make predictions\n",
    "y_pred_nonlinear = svm_nonlinear_classifier.predict(X_test)\n",
    "\n",
    "# Evaluate performance metrics for non-linear kernel\n",
    "accuracy_nonlinear = accuracy_score(y_test, y_pred_nonlinear)\n",
    "f1_nonlinear = f1_score(y_test, y_pred_nonlinear, average='weighted')\n",
    "precision_nonlinear = precision_score(y_test, y_pred_nonlinear, average='weighted')\n",
    "recall_nonlinear = recall_score(y_test, y_pred_nonlinear, average='weighted')\n",
    "conf_matrix_nonlinear = confusion_matrix(y_test, y_pred_nonlinear)\n"
   ]
  },
  {
   "cell_type": "code",
   "execution_count": 97,
   "id": "283143ca",
   "metadata": {},
   "outputs": [
    {
     "name": "stdout",
     "output_type": "stream",
     "text": [
      "Non-Linear Kernel Results:\n",
      "Accuracy: 0.9850\n",
      "F1 Score: 0.9850\n",
      "Precision: 0.9850\n",
      "Recall: 0.9850\n",
      "Confusion Matrix:\n",
      "[[ 973    0    2    0    0    1    2    1    1    0]\n",
      " [   0 1127    3    1    0    1    1    0    2    0]\n",
      " [   3    0 1016    1    1    0    2    5    3    1]\n",
      " [   0    0    1  997    0    3    0    3    3    3]\n",
      " [   1    0    2    1  965    0    3    1    1    8]\n",
      " [   2    0    0    6    1  877    3    0    2    1]\n",
      " [   5    3    0    1    1    2  946    0    0    0]\n",
      " [   0    4   11    1    1    0    0 1004    2    5]\n",
      " [   0    0    3    3    2    2    2    2  956    4]\n",
      " [   1    2    0    2    5    3    1    4    2  989]]\n"
     ]
    }
   ],
   "source": [
    "# Display the results for non-linear kernel\n",
    "print('Non-Linear Kernel Results:')\n",
    "print(f'Accuracy: {accuracy_nonlinear:.4f}')\n",
    "print(f'F1 Score: {f1_nonlinear:.4f}')\n",
    "print(f'Precision: {precision_nonlinear:.4f}')\n",
    "print(f'Recall: {recall_nonlinear:.4f}')\n",
    "print('Confusion Matrix:')\n",
    "print(conf_matrix_nonlinear)"
   ]
  },
  {
   "cell_type": "markdown",
   "id": "05cdee65",
   "metadata": {},
   "source": [
    "# 256 Combined Feature extracted from RNN and LSTM and Train KNN"
   ]
  },
  {
   "cell_type": "code",
   "execution_count": 98,
   "id": "9a43a31a",
   "metadata": {},
   "outputs": [],
   "source": [
    "import pandas as pd\n",
    "from sklearn.utils import shuffle\n",
    "\n",
    "# Load the extracted features and labels from both models\n",
    "lstm_train_df = pd.read_excel('lstm_256_train_features_labels.xlsx')\n",
    "lstm_test_df = pd.read_excel('lstm_256_test_features_labels.xlsx')\n",
    "rnn_train_df = pd.read_excel('rnn_256_train_features_labels.xlsx')\n",
    "rnn_test_df = pd.read_excel('rnn_256_test_features_labels.xlsx')\n",
    "\n",
    "# Combine features column-wise\n",
    "combined_train_df = pd.concat([lstm_train_df.drop('label', axis=1), rnn_train_df.drop('label', axis=1), lstm_train_df['label']], axis=1)\n",
    "combined_test_df = pd.concat([lstm_test_df.drop('label', axis=1), rnn_test_df.drop('label', axis=1), lstm_test_df['label']], axis=1)\n",
    "\n",
    "# Shuffle the combined data\n",
    "combined_train_df = shuffle(combined_train_df)\n",
    "combined_test_df = shuffle(combined_test_df)\n",
    "\n",
    "# Save the combined features and labels to Excel files\n",
    "combined_train_df.to_excel('combined_256_train_features_labels.xlsx', index=False)\n",
    "combined_test_df.to_excel('combined_256_test_features_labels.xlsx', index=False)"
   ]
  },
  {
   "cell_type": "code",
   "execution_count": 99,
   "id": "616ad617",
   "metadata": {},
   "outputs": [],
   "source": [
    "import pandas as pd\n",
    "from sklearn.model_selection import train_test_split\n",
    "from sklearn.neighbors import KNeighborsClassifier\n",
    "from sklearn.metrics import accuracy_score, f1_score, precision_score, recall_score, roc_curve, auc, confusion_matrix, precision_recall_curve\n",
    "import matplotlib.pyplot as plt\n",
    "\n",
    "# Load combined features and labels\n",
    "combined_train_df = pd.read_excel('combined_256_train_features_labels.xlsx')\n",
    "combined_test_df = pd.read_excel('combined_256_test_features_labels.xlsx')\n",
    "\n",
    "# Separate features and labels\n",
    "X_train = combined_train_df.drop('label', axis=1)\n",
    "y_train = combined_train_df['label']\n",
    "X_test = combined_test_df.drop('label', axis=1)\n",
    "y_test = combined_test_df['label']"
   ]
  },
  {
   "cell_type": "markdown",
   "id": "68f48ca1",
   "metadata": {},
   "source": [
    "# Apply k-NN with k=27"
   ]
  },
  {
   "cell_type": "code",
   "execution_count": 100,
   "id": "fdb543be",
   "metadata": {},
   "outputs": [],
   "source": [
    "\n",
    "knn_classifier = KNeighborsClassifier(n_neighbors=27)\n",
    "knn_classifier.fit(X_train, y_train)\n",
    "\n",
    "# Make predictions\n",
    "y_pred = knn_classifier.predict(X_test)"
   ]
  },
  {
   "cell_type": "code",
   "execution_count": 101,
   "id": "bdc66c41",
   "metadata": {},
   "outputs": [],
   "source": [
    "# Evaluate performance metrics\n",
    "accuracy = accuracy_score(y_test, y_pred)\n",
    "f1 = f1_score(y_test, y_pred, average='weighted')\n",
    "precision = precision_score(y_test, y_pred, average='weighted')\n",
    "recall = recall_score(y_test, y_pred, average='weighted')\n",
    "conf_matrix = confusion_matrix(y_test, y_pred)"
   ]
  },
  {
   "cell_type": "code",
   "execution_count": 102,
   "id": "0b630537",
   "metadata": {},
   "outputs": [
    {
     "name": "stdout",
     "output_type": "stream",
     "text": [
      "Accuracy: 0.9768\n",
      "F1 Score: 0.9768\n",
      "Precision: 0.9769\n",
      "Recall: 0.9768\n",
      "Confusion Matrix:\n",
      "[[ 974    1    0    0    0    1    1    1    1    1]\n",
      " [   0 1130    2    0    0    0    2    0    1    0]\n",
      " [   6    2 1000    2    1    0    5    9    7    0]\n",
      " [   0    0    2  989    0    1    0    9    5    4]\n",
      " [   2    2    0    0  952    0    6    0    2   18]\n",
      " [   3    1    0    8    1  862    9    2    1    5]\n",
      " [   4    5    0    0    3    1  944    0    1    0]\n",
      " [   2   14    6    0    1    0    0  994    1   10]\n",
      " [   6    2    2    1    5    5    3    3  942    5]\n",
      " [   3    4    0    6    2    1    1    7    4  981]]\n"
     ]
    }
   ],
   "source": [
    "# Display the results\n",
    "print(f'Accuracy: {accuracy:.4f}')\n",
    "print(f'F1 Score: {f1:.4f}')\n",
    "print(f'Precision: {precision:.4f}')\n",
    "print(f'Recall: {recall:.4f}')\n",
    "print('Confusion Matrix:')\n",
    "print(conf_matrix)"
   ]
  },
  {
   "cell_type": "markdown",
   "id": "5892799e",
   "metadata": {},
   "source": [
    "# SVM Linear Kernel Combined 256 Feature extracted from RNN and LSTM"
   ]
  },
  {
   "cell_type": "code",
   "execution_count": 103,
   "id": "9b6410f5",
   "metadata": {},
   "outputs": [],
   "source": [
    "import pandas as pd\n",
    "from sklearn.model_selection import train_test_split\n",
    "from sklearn.svm import SVC\n",
    "from sklearn.metrics import accuracy_score, f1_score, precision_score, recall_score, roc_auc_score, confusion_matrix, precision_recall_curve\n",
    "import matplotlib.pyplot as plt\n",
    "\n",
    "# Load combined features and labels\n",
    "combined_train_df = pd.read_excel('combined_256_train_features_labels.xlsx')\n",
    "combined_test_df = pd.read_excel('combined_256_test_features_labels.xlsx')\n",
    "\n",
    "# Separate features and labels\n",
    "X_train = combined_train_df.drop('label', axis=1)\n",
    "y_train = combined_train_df['label']\n",
    "X_test = combined_test_df.drop('label', axis=1)\n",
    "y_test = combined_test_df['label']"
   ]
  },
  {
   "cell_type": "code",
   "execution_count": 104,
   "id": "c7e2f982",
   "metadata": {},
   "outputs": [],
   "source": [
    "# Apply SVM with linear kernel\n",
    "svm_linear_classifier = SVC(kernel='linear')\n",
    "svm_linear_classifier.fit(X_train, y_train)\n",
    "\n",
    "# Make predictions\n",
    "y_pred_linear = svm_linear_classifier.predict(X_test)\n",
    "\n",
    "# Evaluate performance metrics for linear kernel\n",
    "accuracy_linear = accuracy_score(y_test, y_pred_linear)\n",
    "f1_linear = f1_score(y_test, y_pred_linear, average='weighted')\n",
    "precision_linear = precision_score(y_test, y_pred_linear, average='weighted')\n",
    "recall_linear = recall_score(y_test, y_pred_linear, average='weighted')\n",
    "conf_matrix_linear = confusion_matrix(y_test, y_pred_linear)"
   ]
  },
  {
   "cell_type": "code",
   "execution_count": 105,
   "id": "85ec4240",
   "metadata": {},
   "outputs": [
    {
     "name": "stdout",
     "output_type": "stream",
     "text": [
      "Linear Kernel Results:\n",
      "Accuracy: 0.9845\n",
      "F1 Score: 0.9845\n",
      "Precision: 0.9845\n",
      "Recall: 0.9845\n",
      "ROC AUC: 0.9899\n",
      "Confusion Matrix:\n",
      "[[ 973    1    0    1    1    0    1    1    2    0]\n",
      " [   0 1129    2    0    0    1    0    1    2    0]\n",
      " [   3    0 1015    4    1    0    1    4    4    0]\n",
      " [   0    0    2  997    0    3    0    2    3    3]\n",
      " [   0    0    4    0  966    0    4    1    1    6]\n",
      " [   2    0    0    5    1  875    2    1    3    3]\n",
      " [   3    2    1    1    3    6  941    0    1    0]\n",
      " [   1    2    7    0    0    0    0 1009    3    6]\n",
      " [   2    1    2    5    2    2    1    2  954    3]\n",
      " [   2    2    0    3    8    4    0    2    2  986]]\n"
     ]
    }
   ],
   "source": [
    "# Display the results for linear kernel\n",
    "print('Linear Kernel Results:')\n",
    "print(f'Accuracy: {accuracy_linear:.4f}')\n",
    "print(f'F1 Score: {f1_linear:.4f}')\n",
    "print(f'Precision: {precision_linear:.4f}')\n",
    "print(f'Recall: {recall_linear:.4f}')\n",
    "print(f'ROC AUC: {roc_auc_linear:.4f}')\n",
    "print('Confusion Matrix:')\n",
    "print(conf_matrix_linear)"
   ]
  },
  {
   "cell_type": "markdown",
   "id": "24c31dbb",
   "metadata": {},
   "source": [
    "# Apply SVM with non-linear kernel (rbf)"
   ]
  },
  {
   "cell_type": "code",
   "execution_count": 106,
   "id": "30ab41dd",
   "metadata": {},
   "outputs": [],
   "source": [
    "svm_nonlinear_classifier = SVC(kernel='rbf') \n",
    "svm_nonlinear_classifier.fit(X_train, y_train)\n",
    "\n",
    "# Make predictions\n",
    "y_pred_nonlinear = svm_nonlinear_classifier.predict(X_test)\n",
    "\n",
    "# Evaluate performance metrics for non-linear kernel\n",
    "accuracy_nonlinear = accuracy_score(y_test, y_pred_nonlinear)\n",
    "f1_nonlinear = f1_score(y_test, y_pred_nonlinear, average='weighted')\n",
    "precision_nonlinear = precision_score(y_test, y_pred_nonlinear, average='weighted')\n",
    "recall_nonlinear = recall_score(y_test, y_pred_nonlinear, average='weighted')\n",
    "conf_matrix_nonlinear = confusion_matrix(y_test, y_pred_nonlinear)\n"
   ]
  },
  {
   "cell_type": "code",
   "execution_count": 107,
   "id": "43ca03f2",
   "metadata": {},
   "outputs": [
    {
     "name": "stdout",
     "output_type": "stream",
     "text": [
      "Non-Linear Kernel Results:\n",
      "Accuracy: 0.9870\n",
      "F1 Score: 0.9870\n",
      "Precision: 0.9870\n",
      "Recall: 0.9870\n",
      "Confusion Matrix:\n",
      "[[ 973    1    0    1    0    1    2    1    1    0]\n",
      " [   0 1131    2    0    0    1    0    0    1    0]\n",
      " [   3    1 1015    2    1    0    1    4    4    1]\n",
      " [   0    0    2  998    0    1    0    4    3    2]\n",
      " [   1    0    3    0  968    0    3    0    1    6]\n",
      " [   2    0    0    5    1  879    2    0    1    2]\n",
      " [   2    2    0    1    2    2  947    0    2    0]\n",
      " [   1    4    6    0    0    0    0 1010    2    5]\n",
      " [   1    0    2    3    1    1    1    3  959    3]\n",
      " [   3    2    0    4    6    2    0    2    0  990]]\n"
     ]
    }
   ],
   "source": [
    "# Display the results for non-linear kernel\n",
    "print('Non-Linear Kernel Results:')\n",
    "print(f'Accuracy: {accuracy_nonlinear:.4f}')\n",
    "print(f'F1 Score: {f1_nonlinear:.4f}')\n",
    "print(f'Precision: {precision_nonlinear:.4f}')\n",
    "print(f'Recall: {recall_nonlinear:.4f}')\n",
    "print('Confusion Matrix:')\n",
    "print(conf_matrix_nonlinear)"
   ]
  },
  {
   "cell_type": "code",
   "execution_count": null,
   "id": "d7d07d5f",
   "metadata": {},
   "outputs": [],
   "source": []
  },
  {
   "cell_type": "markdown",
   "id": "d5316d30",
   "metadata": {},
   "source": [
    "# Combined 512 Feature extracted from RNN and LSTM and Train KNN"
   ]
  },
  {
   "cell_type": "code",
   "execution_count": 1,
   "id": "53c5a8b0",
   "metadata": {},
   "outputs": [],
   "source": [
    "import pandas as pd\n",
    "from sklearn.utils import shuffle\n",
    "\n",
    "# Load the extracted features and labels from both models\n",
    "lstm_train_df = pd.read_excel('lstm_512_train_features_labels.xlsx')\n",
    "lstm_test_df = pd.read_excel('lstm_512_test_features_labels.xlsx')\n",
    "rnn_train_df = pd.read_excel('rnn_512_train_features_labels.xlsx')\n",
    "rnn_test_df = pd.read_excel('rnn_512_test_features_labels.xlsx')\n",
    "\n",
    "# Combine features column-wise\n",
    "combined_train_df = pd.concat([lstm_train_df.drop('label', axis=1), rnn_train_df.drop('label', axis=1), lstm_train_df['label']], axis=1)\n",
    "combined_test_df = pd.concat([lstm_test_df.drop('label', axis=1), rnn_test_df.drop('label', axis=1), lstm_test_df['label']], axis=1)\n",
    "\n",
    "# Shuffle the combined data\n",
    "combined_train_df = shuffle(combined_train_df)\n",
    "combined_test_df = shuffle(combined_test_df)\n",
    "\n",
    "# Save the combined features and labels to Excel files\n",
    "combined_train_df.to_excel('combined_512_train_features_labels.xlsx', index=False)\n",
    "combined_test_df.to_excel('combined_512_test_features_labels.xlsx', index=False)"
   ]
  },
  {
   "cell_type": "code",
   "execution_count": 2,
   "id": "5901a3ef",
   "metadata": {},
   "outputs": [],
   "source": [
    "import pandas as pd\n",
    "from sklearn.model_selection import train_test_split\n",
    "from sklearn.neighbors import KNeighborsClassifier\n",
    "from sklearn.metrics import accuracy_score, f1_score, precision_score, recall_score, roc_curve, auc, confusion_matrix, precision_recall_curve\n",
    "import matplotlib.pyplot as plt\n",
    "\n",
    "# Load combined features and labels\n",
    "combined_train_df = pd.read_excel('combined_512_train_features_labels.xlsx')\n",
    "combined_test_df = pd.read_excel('combined_512_test_features_labels.xlsx')\n",
    "\n",
    "# Separate features and labels\n",
    "X_train = combined_train_df.drop('label', axis=1)\n",
    "y_train = combined_train_df['label']\n",
    "X_test = combined_test_df.drop('label', axis=1)\n",
    "y_test = combined_test_df['label']"
   ]
  },
  {
   "cell_type": "markdown",
   "id": "2695a533",
   "metadata": {},
   "source": [
    "# Apply k-NN with k=27"
   ]
  },
  {
   "cell_type": "code",
   "execution_count": 3,
   "id": "cad64d7f",
   "metadata": {},
   "outputs": [],
   "source": [
    "knn_classifier = KNeighborsClassifier(n_neighbors=27)\n",
    "knn_classifier.fit(X_train, y_train)\n",
    "\n",
    "# Make predictions\n",
    "y_pred = knn_classifier.predict(X_test)"
   ]
  },
  {
   "cell_type": "code",
   "execution_count": 4,
   "id": "ae6a61c8",
   "metadata": {},
   "outputs": [],
   "source": [
    "# Evaluate performance metrics\n",
    "accuracy = accuracy_score(y_test, y_pred)\n",
    "f1 = f1_score(y_test, y_pred, average='weighted')\n",
    "precision = precision_score(y_test, y_pred, average='weighted')\n",
    "recall = recall_score(y_test, y_pred, average='weighted')\n",
    "conf_matrix = confusion_matrix(y_test, y_pred)"
   ]
  },
  {
   "cell_type": "code",
   "execution_count": 5,
   "id": "c2fc6690",
   "metadata": {},
   "outputs": [
    {
     "name": "stdout",
     "output_type": "stream",
     "text": [
      "Accuracy: 0.9783\n",
      "F1 Score: 0.9783\n",
      "Precision: 0.9784\n",
      "Recall: 0.9783\n",
      "Confusion Matrix:\n",
      "[[ 971    1    0    0    0    1    3    1    2    1]\n",
      " [   0 1128    2    0    0    0    3    0    2    0]\n",
      " [   6    0 1002    0    2    0    6    7    9    0]\n",
      " [   0    0    3  986    0    6    0    6    7    2]\n",
      " [   2    2    0    0  950    0    6    0    1   21]\n",
      " [   2    0    0    3    1  872    7    1    4    2]\n",
      " [   4    2    0    0    3    2  946    0    1    0]\n",
      " [   2   11    7    0    2    0    0  994    1   11]\n",
      " [   3    0    1    2    4    3    1    3  953    4]\n",
      " [   2    3    1    6    4    2    2    5    3  981]]\n"
     ]
    }
   ],
   "source": [
    "# Display the results\n",
    "print(f'Accuracy: {accuracy:.4f}')\n",
    "print(f'F1 Score: {f1:.4f}')\n",
    "print(f'Precision: {precision:.4f}')\n",
    "print(f'Recall: {recall:.4f}')\n",
    "print('Confusion Matrix:')\n",
    "print(conf_matrix)"
   ]
  },
  {
   "cell_type": "markdown",
   "id": "0881ecb3",
   "metadata": {},
   "source": [
    "# SVM Linear Kernel Combined 512 Feature extracted from RNN and LSTM"
   ]
  },
  {
   "cell_type": "code",
   "execution_count": 7,
   "id": "f2cd1ff4",
   "metadata": {},
   "outputs": [],
   "source": [
    "import pandas as pd\n",
    "from sklearn.model_selection import train_test_split\n",
    "from sklearn.svm import SVC\n",
    "from sklearn.metrics import accuracy_score, f1_score, precision_score, recall_score, roc_auc_score, confusion_matrix, precision_recall_curve\n",
    "import matplotlib.pyplot as plt\n",
    "\n",
    "# Load combined features and labels\n",
    "combined_train_df = pd.read_excel('combined_512_train_features_labels.xlsx')\n",
    "combined_test_df = pd.read_excel('combined_512_test_features_labels.xlsx')\n",
    "\n",
    "# Separate features and labels\n",
    "X_train = combined_train_df.drop('label', axis=1)\n",
    "y_train = combined_train_df['label']\n",
    "X_test = combined_test_df.drop('label', axis=1)\n",
    "y_test = combined_test_df['label']"
   ]
  },
  {
   "cell_type": "code",
   "execution_count": 8,
   "id": "1a14f152",
   "metadata": {},
   "outputs": [],
   "source": [
    "# Apply SVM with linear kernel\n",
    "svm_linear_classifier = SVC(kernel='linear')\n",
    "svm_linear_classifier.fit(X_train, y_train)\n",
    "\n",
    "# Make predictions\n",
    "y_pred_linear = svm_linear_classifier.predict(X_test)\n",
    "\n",
    "# Evaluate performance metrics for linear kernel\n",
    "accuracy_linear = accuracy_score(y_test, y_pred_linear)\n",
    "f1_linear = f1_score(y_test, y_pred_linear, average='weighted')\n",
    "precision_linear = precision_score(y_test, y_pred_linear, average='weighted')\n",
    "recall_linear = recall_score(y_test, y_pred_linear, average='weighted')\n",
    "conf_matrix_linear = confusion_matrix(y_test, y_pred_linear)"
   ]
  },
  {
   "cell_type": "code",
   "execution_count": 10,
   "id": "1d1b4cc2",
   "metadata": {},
   "outputs": [
    {
     "name": "stdout",
     "output_type": "stream",
     "text": [
      "Linear Kernel Results:\n",
      "Accuracy: 0.9859\n",
      "F1 Score: 0.9859\n",
      "Precision: 0.9859\n",
      "Recall: 0.9859\n",
      "Confusion Matrix:\n",
      "[[ 971    1    1    0    1    0    3    1    2    0]\n",
      " [   0 1129    1    1    0    0    1    1    2    0]\n",
      " [   1    0 1018    2    1    0    1    3    5    1]\n",
      " [   0    0    2  998    0    4    0    3    2    1]\n",
      " [   1    1    3    0  964    0    3    1    1    8]\n",
      " [   2    0    0    6    1  877    2    0    2    2]\n",
      " [   3    2    0    1    2    4  946    0    0    0]\n",
      " [   2    2    7    1    1    0    0 1008    2    5]\n",
      " [   2    0    2    3    3    2    0    2  955    5]\n",
      " [   1    2    0    1    7    2    0    3    0  993]]\n"
     ]
    }
   ],
   "source": [
    "# Display the results for linear kernel\n",
    "print('Linear Kernel Results:')\n",
    "print(f'Accuracy: {accuracy_linear:.4f}')\n",
    "print(f'F1 Score: {f1_linear:.4f}')\n",
    "print(f'Precision: {precision_linear:.4f}')\n",
    "print(f'Recall: {recall_linear:.4f}')\n",
    "\n",
    "print('Confusion Matrix:')\n",
    "print(conf_matrix_linear)"
   ]
  },
  {
   "cell_type": "markdown",
   "id": "5b485cdc",
   "metadata": {},
   "source": [
    "# Apply SVM with non-linear kernel (rbf) (512 features) "
   ]
  },
  {
   "cell_type": "code",
   "execution_count": 11,
   "id": "458413c8",
   "metadata": {},
   "outputs": [],
   "source": [
    "svm_nonlinear_classifier = SVC(kernel='rbf') \n",
    "svm_nonlinear_classifier.fit(X_train, y_train)\n",
    "\n",
    "# Make predictions\n",
    "y_pred_nonlinear = svm_nonlinear_classifier.predict(X_test)\n",
    "\n",
    "# Evaluate performance metrics for non-linear kernel\n",
    "accuracy_nonlinear = accuracy_score(y_test, y_pred_nonlinear)\n",
    "f1_nonlinear = f1_score(y_test, y_pred_nonlinear, average='weighted')\n",
    "precision_nonlinear = precision_score(y_test, y_pred_nonlinear, average='weighted')\n",
    "recall_nonlinear = recall_score(y_test, y_pred_nonlinear, average='weighted')\n",
    "conf_matrix_nonlinear = confusion_matrix(y_test, y_pred_nonlinear)\n"
   ]
  },
  {
   "cell_type": "code",
   "execution_count": 12,
   "id": "e920ad9a",
   "metadata": {},
   "outputs": [
    {
     "name": "stdout",
     "output_type": "stream",
     "text": [
      "Non-Linear Kernel Results:\n",
      "Accuracy: 0.9867\n",
      "F1 Score: 0.9867\n",
      "Precision: 0.9867\n",
      "Recall: 0.9867\n",
      "Confusion Matrix:\n",
      "[[ 973    1    0    0    0    0    2    2    2    0]\n",
      " [   0 1129    1    2    0    1    1    0    1    0]\n",
      " [   1    1 1017    2    1    0    2    3    4    1]\n",
      " [   0    0    2  997    0    4    0    3    2    2]\n",
      " [   1    1    3    0  964    0    3    1    1    8]\n",
      " [   2    0    0    6    1  878    2    0    2    1]\n",
      " [   3    2    0    1    1    3  946    0    2    0]\n",
      " [   1    3    6    1    1    0    0 1010    2    4]\n",
      " [   1    0    2    3    2    2    0    2  958    4]\n",
      " [   0    2    0    1    6    2    1    2    0  995]]\n"
     ]
    }
   ],
   "source": [
    "# Display the results for non-linear kernel\n",
    "print('Non-Linear Kernel Results:')\n",
    "print(f'Accuracy: {accuracy_nonlinear:.4f}')\n",
    "print(f'F1 Score: {f1_nonlinear:.4f}')\n",
    "print(f'Precision: {precision_nonlinear:.4f}')\n",
    "print(f'Recall: {recall_nonlinear:.4f}')\n",
    "print('Confusion Matrix:')\n",
    "print(conf_matrix_nonlinear)"
   ]
  },
  {
   "cell_type": "code",
   "execution_count": null,
   "id": "6cb66871",
   "metadata": {},
   "outputs": [],
   "source": []
  }
 ],
 "metadata": {
  "kernelspec": {
   "display_name": "Python 3 (ipykernel)",
   "language": "python",
   "name": "python3"
  },
  "language_info": {
   "codemirror_mode": {
    "name": "ipython",
    "version": 3
   },
   "file_extension": ".py",
   "mimetype": "text/x-python",
   "name": "python",
   "nbconvert_exporter": "python",
   "pygments_lexer": "ipython3",
   "version": "3.10.13"
  }
 },
 "nbformat": 4,
 "nbformat_minor": 5
}
